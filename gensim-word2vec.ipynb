{
 "cells": [
  {
   "cell_type": "code",
   "execution_count": 1,
   "metadata": {},
   "outputs": [],
   "source": [
    "import warnings\n",
    "warnings.filterwarnings(\"ignore\")"
   ]
  },
  {
   "cell_type": "code",
   "execution_count": 2,
   "metadata": {},
   "outputs": [],
   "source": [
    "import pandas as pd\n",
    "data = pd.read_csv(\"data_small.csv\")"
   ]
  },
  {
   "cell_type": "code",
   "execution_count": 3,
   "metadata": {},
   "outputs": [
    {
     "data": {
      "text/html": [
       "<div>\n",
       "<style scoped>\n",
       "    .dataframe tbody tr th:only-of-type {\n",
       "        vertical-align: middle;\n",
       "    }\n",
       "\n",
       "    .dataframe tbody tr th {\n",
       "        vertical-align: top;\n",
       "    }\n",
       "\n",
       "    .dataframe thead th {\n",
       "        text-align: right;\n",
       "    }\n",
       "</style>\n",
       "<table border=\"1\" class=\"dataframe\">\n",
       "  <thead>\n",
       "    <tr style=\"text-align: right;\">\n",
       "      <th></th>\n",
       "      <th>context</th>\n",
       "      <th>tag</th>\n",
       "      <th>words</th>\n",
       "    </tr>\n",
       "  </thead>\n",
       "  <tbody>\n",
       "    <tr>\n",
       "      <th>0</th>\n",
       "      <td>读者故事：“婆婆陪睡，我成了保姆”   \"  茫茫人海中，为防大家走失，请大家   点击上方...</td>\n",
       "      <td>0</td>\n",
       "      <td>读者 故事 婆婆 陪 睡 我成 保姆 茫茫人海 中 为防 走失 请 点击 上方 婆媳关系 婚...</td>\n",
       "    </tr>\n",
       "    <tr>\n",
       "      <th>1</th>\n",
       "      <td>剖宫产期间产妇低体温的预测因素    背景与目的   虽然围术期低体温可增加产妇发病率，但少...</td>\n",
       "      <td>1</td>\n",
       "      <td>剖宫产 期间 产妇 低 体温 预测 因素 背景 目的 围术期 低 体温 增加 产妇 发病率 ...</td>\n",
       "    </tr>\n",
       "    <tr>\n",
       "      <th>2</th>\n",
       "      <td>挨过这波雨雪和降温，温暖和阳光就在前方！还要熬几天？ 这几天出门的小伙伴  抬头望天  都要...</td>\n",
       "      <td>1</td>\n",
       "      <td>挨过 这波 雨雪 降温 温暖 阳光 前方 熬 几天 几天 出门 小伙伴 抬头 望天 叹一口气...</td>\n",
       "    </tr>\n",
       "    <tr>\n",
       "      <th>3</th>\n",
       "      <td>杨立新：我不喝豆汁，太馊了！陈佩斯回答7个字让网友坐不住了！ 杨立新：我不喝豆汁，太馊了！陈...</td>\n",
       "      <td>1</td>\n",
       "      <td>杨立新 喝 豆汁 太 馊 陈佩斯 回答 字 网友 坐不住 杨立新 喝 豆汁 太 馊 陈佩斯 ...</td>\n",
       "    </tr>\n",
       "    <tr>\n",
       "      <th>4</th>\n",
       "      <td>上汽大众2018年销量继续领跑国内乘用车市场，背后的实力值得深究  2018年的车市格外严峻...</td>\n",
       "      <td>1</td>\n",
       "      <td>上汽 大众 2018 年销量 领跑 国内 乘用车 市场 背后 实力 值得 深究 2018 车...</td>\n",
       "    </tr>\n",
       "  </tbody>\n",
       "</table>\n",
       "</div>"
      ],
      "text/plain": [
       "                                             context  tag  \\\n",
       "0  读者故事：“婆婆陪睡，我成了保姆”   \"  茫茫人海中，为防大家走失，请大家   点击上方...    0   \n",
       "1  剖宫产期间产妇低体温的预测因素    背景与目的   虽然围术期低体温可增加产妇发病率，但少...    1   \n",
       "2  挨过这波雨雪和降温，温暖和阳光就在前方！还要熬几天？ 这几天出门的小伙伴  抬头望天  都要...    1   \n",
       "3  杨立新：我不喝豆汁，太馊了！陈佩斯回答7个字让网友坐不住了！ 杨立新：我不喝豆汁，太馊了！陈...    1   \n",
       "4  上汽大众2018年销量继续领跑国内乘用车市场，背后的实力值得深究  2018年的车市格外严峻...    1   \n",
       "\n",
       "                                               words  \n",
       "0  读者 故事 婆婆 陪 睡 我成 保姆 茫茫人海 中 为防 走失 请 点击 上方 婆媳关系 婚...  \n",
       "1  剖宫产 期间 产妇 低 体温 预测 因素 背景 目的 围术期 低 体温 增加 产妇 发病率 ...  \n",
       "2  挨过 这波 雨雪 降温 温暖 阳光 前方 熬 几天 几天 出门 小伙伴 抬头 望天 叹一口气...  \n",
       "3  杨立新 喝 豆汁 太 馊 陈佩斯 回答 字 网友 坐不住 杨立新 喝 豆汁 太 馊 陈佩斯 ...  \n",
       "4  上汽 大众 2018 年销量 领跑 国内 乘用车 市场 背后 实力 值得 深究 2018 车...  "
      ]
     },
     "execution_count": 3,
     "metadata": {},
     "output_type": "execute_result"
    }
   ],
   "source": [
    "data.head()"
   ]
  },
  {
   "cell_type": "code",
   "execution_count": 4,
   "metadata": {},
   "outputs": [],
   "source": [
    "stopwords = []\n",
    "with open('stopwords.txt', \"r\", encoding='utf-8') as f:\n",
    "    line = f.readline()\n",
    "    while line:\n",
    "        stopwords.append(line[:-1])\n",
    "        line = f.readline()\n",
    "stopwords = set(stopwords)"
   ]
  },
  {
   "cell_type": "code",
   "execution_count": 5,
   "metadata": {},
   "outputs": [
    {
     "name": "stderr",
     "output_type": "stream",
     "text": [
      "Building prefix dict from the default dictionary ...\n",
      "Loading model from cache /tmp/jieba.cache\n",
      "Loading model cost 0.852 seconds.\n",
      "Prefix dict has been built succesfully.\n"
     ]
    }
   ],
   "source": [
    "import jieba\n",
    "document = []    \n",
    "for i in range(len(data['context'])):\n",
    "    seg_list = list(jieba.cut(data['context'][i]))\n",
    "    sentence = [\"\".join(w) for w in seg_list if w not in stopwords]\n",
    "    document.append(sentence)"
   ]
  },
  {
   "cell_type": "code",
   "execution_count": 6,
   "metadata": {},
   "outputs": [],
   "source": [
    "import gensim\n",
    "\n",
    "model = gensim.models.Word2Vec(document, min_count=10, size=100) # min_count忽略词频低于10的词，默认值是5， size词向量维度，默认为100"
   ]
  },
  {
   "cell_type": "code",
   "execution_count": 7,
   "metadata": {},
   "outputs": [
    {
     "data": {
      "text/plain": [
       "array([-0.11778619,  0.24294573, -0.30936217, -0.25150734,  0.6710721 ,\n",
       "       -0.4556564 ,  0.12344617,  0.49587384, -0.28393254,  0.01561437,\n",
       "       -0.65755683, -0.28685528, -0.08796494,  0.39799744, -0.6603641 ,\n",
       "        0.47582784, -0.3371661 , -0.07821414, -0.4025913 , -0.16783626,\n",
       "       -0.44868666,  0.06887891,  0.2567606 , -0.04263752, -0.14793076,\n",
       "       -0.02702715,  0.07139065, -0.00514326,  0.23485598, -0.40072027,\n",
       "        0.08923026, -0.06745334,  0.15784648, -0.26475647, -0.3848933 ,\n",
       "        0.8535356 , -0.56463015,  0.38508487,  0.43449122, -0.0248362 ,\n",
       "       -0.052674  ,  0.06086592,  0.3538074 , -1.1369187 , -0.294113  ,\n",
       "        0.35291755, -0.2500306 , -0.0045505 , -0.01700079, -0.05367097,\n",
       "       -0.17493391, -0.4735483 ,  0.31075847, -0.40381458,  0.08349467,\n",
       "       -0.68541074, -0.075026  ,  0.31664196,  0.1499828 ,  0.07543008,\n",
       "        0.36977926, -0.11807282, -0.23606968, -0.2159341 , -0.91194487,\n",
       "       -0.07460345,  0.38509822, -0.4825328 , -0.7250072 ,  0.00600723,\n",
       "       -0.3501652 , -0.3824032 , -0.19625165, -0.2874348 ,  0.12844324,\n",
       "        0.25278646, -0.32316896, -0.06785905, -0.53559315,  0.06618758,\n",
       "        0.3934158 ,  0.29841515, -0.02762722,  0.04863331, -0.17223473,\n",
       "        0.46732947,  0.01881474,  0.4754793 ,  0.12227805,  0.12391146,\n",
       "        0.1251286 ,  0.33010766, -0.4670277 , -0.7587674 , -0.11201904,\n",
       "       -0.5105353 ,  0.46513247,  0.06747679,  0.5080433 ,  0.19959496],\n",
       "      dtype=float32)"
      ]
     },
     "execution_count": 7,
     "metadata": {},
     "output_type": "execute_result"
    }
   ],
   "source": [
    "model['故事'] # 词向量"
   ]
  },
  {
   "cell_type": "code",
   "execution_count": 8,
   "metadata": {},
   "outputs": [
    {
     "data": {
      "text/plain": [
       "[('一位', 0.9999282360076904),\n",
       " ('最终', 0.9999151229858398),\n",
       " ('建议', 0.9999114274978638),\n",
       " ('希望', 0.9999090433120728),\n",
       " ('地方', 0.9999085068702698),\n",
       " ('更是', 0.9999076128005981),\n",
       " ('电影', 0.9999070167541504),\n",
       " ('前', 0.9999065399169922),\n",
       " ('历史', 0.9999058246612549),\n",
       " ('两个', 0.9999045133590698)]"
      ]
     },
     "execution_count": 8,
     "metadata": {},
     "output_type": "execute_result"
    }
   ],
   "source": [
    "# 计算最相近的topn个词\n",
    "model.most_similar(['故事'], topn=10)"
   ]
  },
  {
   "cell_type": "code",
   "execution_count": 9,
   "metadata": {},
   "outputs": [
    {
     "data": {
      "text/plain": [
       "0.9999026"
      ]
     },
     "execution_count": 9,
     "metadata": {},
     "output_type": "execute_result"
    }
   ],
   "source": [
    "# 计算相似概率，即词向量的cosine值\n",
    "model.similarity('女人', '男人')"
   ]
  },
  {
   "cell_type": "code",
   "execution_count": 10,
   "metadata": {},
   "outputs": [
    {
     "name": "stdout",
     "output_type": "stream",
     "text": [
      "0.9999917\n"
     ]
    }
   ],
   "source": [
    "# 计算两句话的相似性\n",
    "list1 = ['选择', '两个', '故事'] \n",
    "list2 = ['选择', '两个'] \n",
    "list_sim = model.n_similarity(list1, list2)\n",
    "print(list_sim)"
   ]
  },
  {
   "cell_type": "code",
   "execution_count": 11,
   "metadata": {},
   "outputs": [
    {
     "data": {
      "text/plain": [
       "'故事'"
      ]
     },
     "execution_count": 11,
     "metadata": {},
     "output_type": "execute_result"
    }
   ],
   "source": [
    "# 发现不匹配的词，也就是不同类的词\n",
    "model.doesnt_match('选择 两个 故事'.split())"
   ]
  },
  {
   "cell_type": "code",
   "execution_count": null,
   "metadata": {},
   "outputs": [],
   "source": []
  },
  {
   "cell_type": "code",
   "execution_count": 12,
   "metadata": {},
   "outputs": [],
   "source": [
    "model.save(\"word2vec.model\") # 保存模型"
   ]
  },
  {
   "cell_type": "code",
   "execution_count": 13,
   "metadata": {},
   "outputs": [],
   "source": [
    "model = gensim.models.Word2Vec.load('word2vec.model') # 导入模型"
   ]
  },
  {
   "cell_type": "code",
   "execution_count": null,
   "metadata": {},
   "outputs": [],
   "source": [
    "model = gensim.models.Word2Vec.load('word2vec.model') \n",
    "model.train(more_sentences) # 用新数据追加训练"
   ]
  },
  {
   "cell_type": "code",
   "execution_count": null,
   "metadata": {},
   "outputs": [],
   "source": []
  },
  {
   "cell_type": "code",
   "execution_count": 14,
   "metadata": {},
   "outputs": [
    {
     "data": {
      "text/plain": [
       "(479748, 704335)"
      ]
     },
     "execution_count": 14,
     "metadata": {},
     "output_type": "execute_result"
    }
   ],
   "source": [
    "from gensim.models.word2vec import Word2Vec\n",
    "\n",
    "# 该构造函数执行了三个步骤：\n",
    "# 1.建立一个空的模型对象，\n",
    "# 2.遍历一次语料库建立词典，\n",
    "# 3.第二次遍历语料库建立神经网络模型\n",
    "model = Word2Vec()\n",
    "model.build_vocab(document)\n",
    "model.train(document, total_examples=model.corpus_count, epochs=model.iter)"
   ]
  },
  {
   "cell_type": "code",
   "execution_count": null,
   "metadata": {},
   "outputs": [],
   "source": []
  }
 ],
 "metadata": {
  "kernelspec": {
   "display_name": "Python 3",
   "language": "python",
   "name": "python3"
  },
  "language_info": {
   "codemirror_mode": {
    "name": "ipython",
    "version": 3
   },
   "file_extension": ".py",
   "mimetype": "text/x-python",
   "name": "python",
   "nbconvert_exporter": "python",
   "pygments_lexer": "ipython3",
   "version": "3.5.2"
  }
 },
 "nbformat": 4,
 "nbformat_minor": 2
}
