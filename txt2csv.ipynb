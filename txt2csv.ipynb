{
 "cells": [
  {
   "cell_type": "code",
   "execution_count": 1,
   "metadata": {},
   "outputs": [
    {
     "name": "stdout",
     "output_type": "stream",
     "text": [
      "ads.txt 行数：\n",
      "284433\n",
      "nads.txt 行数：\n",
      "293126\n"
     ]
    }
   ],
   "source": [
    "def countLines():\n",
    "    with open('C:\\\\Users\\\\liuhw3\\\\Downloads\\\\code\\\\data\\\\ads.txt', 'r', encoding='utf-8') as f:\n",
    "        print(\"ads.txt 行数：\")\n",
    "        print(len(f.readlines()))\n",
    "        \n",
    "    with open('C:\\\\Users\\\\liuhw3\\\\Downloads\\\\code\\\\data\\\\nads.txt', 'r', encoding='utf-8') as f:\n",
    "        print(\"nads.txt 行数：\")\n",
    "        print(len(f.readlines()))\n",
    "\n",
    "countLines()"
   ]
  },
  {
   "cell_type": "markdown",
   "metadata": {},
   "source": [
    "# 0.txt2csv"
   ]
  },
  {
   "cell_type": "code",
   "execution_count": 5,
   "metadata": {},
   "outputs": [],
   "source": [
    "import re\n",
    "import pandas as pd"
   ]
  },
  {
   "cell_type": "code",
   "execution_count": 6,
   "metadata": {},
   "outputs": [],
   "source": [
    "def ads2csv():\n",
    "    contexts = []\n",
    "    with open('C:\\\\Users\\\\liuhw3\\\\Downloads\\\\code\\\\data\\\\ads.txt', 'r', encoding='utf-8') as f:    \n",
    "        line = f.readline() \n",
    "        pattern = re.compile(\"\\\"content\\\"\\:\\\"([\\u4e00-\\u9fa5]|\\S|\\s)*\\\"\")\n",
    "        while line:   \n",
    "            # print(line)\n",
    "            result = pattern.search(line)\n",
    "            result = re.sub('\\<(.*?)\\>', '', result.group(0))\n",
    "            contexts.append(result[11:-1])\n",
    "            line = f.readline()\n",
    "    \n",
    "    ads = {}\n",
    "    ads['context'] = contexts\n",
    "    ads[\"tag\"] = [1 for i in range(len(contexts))]\n",
    "\n",
    "    df = pd.DataFrame(ads)\n",
    "    df.to_csv(\"./data/ads.csv\", index=False, encoding='utf-8')\n",
    "    \n",
    "def nads2csv():\n",
    "    contexts = []\n",
    "    with open('C:\\\\Users\\\\liuhw3\\\\Downloads\\\\code\\\\data\\\\nads.txt', 'r', encoding='utf-8') as f:   \n",
    "        line = f.readline() \n",
    "        while line:   \n",
    "            # print(line)\n",
    "            tmp = re.sub('http(.*?)(jpg|jpeg|png|gif)', '', line)\n",
    "            result = re.sub('\\\\r\\\\n', '', tmp)\n",
    "            contexts.append(result[:-6])\n",
    "            line = f.readline()\n",
    "    \n",
    "    nads = {}\n",
    "    nads['context'] = contexts\n",
    "    nads[\"tag\"] = [0 for i in range(len(contexts))]\n",
    "\n",
    "    df = pd.DataFrame(nads)\n",
    "    df.to_csv(\"./data/nads.csv\", index=False, encoding='utf-8')"
   ]
  },
  {
   "cell_type": "code",
   "execution_count": 7,
   "metadata": {},
   "outputs": [],
   "source": [
    "def txt2csv():\n",
    "    ads2csv()\n",
    "    nads2csv()\n",
    "    \n",
    "txt2csv()"
   ]
  },
  {
   "cell_type": "markdown",
   "metadata": {},
   "source": [
    "# 1.getdata"
   ]
  },
  {
   "cell_type": "code",
   "execution_count": 9,
   "metadata": {},
   "outputs": [],
   "source": [
    "ads = pd.read_csv(\"./data/ads.csv\")\n",
    "nads = pd.read_csv(\"./data/nads.csv\")"
   ]
  },
  {
   "cell_type": "code",
   "execution_count": 10,
   "metadata": {},
   "outputs": [],
   "source": [
    "odata = pd.concat([ads, nads], axis=0, ignore_index=True)"
   ]
  },
  {
   "cell_type": "code",
   "execution_count": 11,
   "metadata": {},
   "outputs": [
    {
     "data": {
      "text/html": [
       "<div>\n",
       "<style scoped>\n",
       "    .dataframe tbody tr th:only-of-type {\n",
       "        vertical-align: middle;\n",
       "    }\n",
       "\n",
       "    .dataframe tbody tr th {\n",
       "        vertical-align: top;\n",
       "    }\n",
       "\n",
       "    .dataframe thead th {\n",
       "        text-align: right;\n",
       "    }\n",
       "</style>\n",
       "<table border=\"1\" class=\"dataframe\">\n",
       "  <thead>\n",
       "    <tr style=\"text-align: right;\">\n",
       "      <th></th>\n",
       "      <th>context</th>\n",
       "      <th>tag</th>\n",
       "    </tr>\n",
       "  </thead>\n",
       "  <tbody>\n",
       "    <tr>\n",
       "      <th>0</th>\n",
       "      <td>原标题:高能预警！玉溪这里一大波岗位正在向你靠近，忍不住跳槽！【招聘信息】店长 文案 哺乳指...</td>\n",
       "      <td>1</td>\n",
       "    </tr>\n",
       "    <tr>\n",
       "      <th>1</th>\n",
       "      <td>现如今智能设备早已成为了优质生活的一部分，如今像小米、360、华为、天猫等大厂都纷纷推出了自...</td>\n",
       "      <td>1</td>\n",
       "    </tr>\n",
       "    <tr>\n",
       "      <th>2</th>\n",
       "      <td>原标题:用它刷牙，10多年黄牙口臭全没了，牙齿竟还了白一度  乐活甄选馆 点击发现更多好物 ...</td>\n",
       "      <td>1</td>\n",
       "    </tr>\n",
       "    <tr>\n",
       "      <th>3</th>\n",
       "      <td>文章中，我将总结新老Python程序员常犯的一些错误，以帮助你们在自己的工作避免犯同样或类似...</td>\n",
       "      <td>1</td>\n",
       "    </tr>\n",
       "    <tr>\n",
       "      <th>4</th>\n",
       "      <td>在这个“颜值即正义”的时代，许多在选择一款手机的时候，不仅要求手机拥有时尚的外观设计，同时还...</td>\n",
       "      <td>1</td>\n",
       "    </tr>\n",
       "  </tbody>\n",
       "</table>\n",
       "</div>"
      ],
      "text/plain": [
       "                                             context  tag\n",
       "0  原标题:高能预警！玉溪这里一大波岗位正在向你靠近，忍不住跳槽！【招聘信息】店长 文案 哺乳指...    1\n",
       "1  现如今智能设备早已成为了优质生活的一部分，如今像小米、360、华为、天猫等大厂都纷纷推出了自...    1\n",
       "2  原标题:用它刷牙，10多年黄牙口臭全没了，牙齿竟还了白一度  乐活甄选馆 点击发现更多好物 ...    1\n",
       "3  文章中，我将总结新老Python程序员常犯的一些错误，以帮助你们在自己的工作避免犯同样或类似...    1\n",
       "4  在这个“颜值即正义”的时代，许多在选择一款手机的时候，不仅要求手机拥有时尚的外观设计，同时还...    1"
      ]
     },
     "execution_count": 11,
     "metadata": {},
     "output_type": "execute_result"
    }
   ],
   "source": [
    "odata.head()"
   ]
  },
  {
   "cell_type": "code",
   "execution_count": 12,
   "metadata": {},
   "outputs": [],
   "source": [
    "data = odata.sample(frac=1).reset_index(drop=True)\n",
    "# data = data.reindex(np.random.permutation(data.index))"
   ]
  },
  {
   "cell_type": "code",
   "execution_count": 13,
   "metadata": {},
   "outputs": [
    {
     "data": {
      "text/html": [
       "<div>\n",
       "<style scoped>\n",
       "    .dataframe tbody tr th:only-of-type {\n",
       "        vertical-align: middle;\n",
       "    }\n",
       "\n",
       "    .dataframe tbody tr th {\n",
       "        vertical-align: top;\n",
       "    }\n",
       "\n",
       "    .dataframe thead th {\n",
       "        text-align: right;\n",
       "    }\n",
       "</style>\n",
       "<table border=\"1\" class=\"dataframe\">\n",
       "  <thead>\n",
       "    <tr style=\"text-align: right;\">\n",
       "      <th></th>\n",
       "      <th>context</th>\n",
       "      <th>tag</th>\n",
       "    </tr>\n",
       "  </thead>\n",
       "  <tbody>\n",
       "    <tr>\n",
       "      <th>0</th>\n",
       "      <td>【e公司直播】格力电器董事会换届 董明珠是否连任董事？ e公司讯，1月16日下午2：30，格...</td>\n",
       "      <td>0</td>\n",
       "    </tr>\n",
       "    <tr>\n",
       "      <th>1</th>\n",
       "      <td>美拍视频: 吃饭饭美拍视频</td>\n",
       "      <td>0</td>\n",
       "    </tr>\n",
       "    <tr>\n",
       "      <th>2</th>\n",
       "      <td>原标题:7月1日起，你的养老金将有重大调整！新疆人注意，关乎你的钱袋子！点击阿克苏我的家关注...</td>\n",
       "      <td>1</td>\n",
       "    </tr>\n",
       "    <tr>\n",
       "      <th>3</th>\n",
       "      <td>虽说今年新iPhone的表现不是那么惊世骇俗，但亮点也是有的，譬如加入了“双卡双待”豪华套餐...</td>\n",
       "      <td>1</td>\n",
       "    </tr>\n",
       "    <tr>\n",
       "      <th>4</th>\n",
       "      <td>原标题:Happy Jazz Year | 在爵士跨年夜中，迎来2019！         ...</td>\n",
       "      <td>1</td>\n",
       "    </tr>\n",
       "  </tbody>\n",
       "</table>\n",
       "</div>"
      ],
      "text/plain": [
       "                                             context  tag\n",
       "0  【e公司直播】格力电器董事会换届 董明珠是否连任董事？ e公司讯，1月16日下午2：30，格...    0\n",
       "1                                      美拍视频: 吃饭饭美拍视频    0\n",
       "2  原标题:7月1日起，你的养老金将有重大调整！新疆人注意，关乎你的钱袋子！点击阿克苏我的家关注...    1\n",
       "3  虽说今年新iPhone的表现不是那么惊世骇俗，但亮点也是有的，譬如加入了“双卡双待”豪华套餐...    1\n",
       "4  原标题:Happy Jazz Year | 在爵士跨年夜中，迎来2019！         ...    1"
      ]
     },
     "execution_count": 13,
     "metadata": {},
     "output_type": "execute_result"
    }
   ],
   "source": [
    "data.head()"
   ]
  },
  {
   "cell_type": "code",
   "execution_count": 14,
   "metadata": {},
   "outputs": [
    {
     "data": {
      "text/plain": [
       "(577559, 2)"
      ]
     },
     "execution_count": 14,
     "metadata": {},
     "output_type": "execute_result"
    }
   ],
   "source": [
    "data.shape"
   ]
  },
  {
   "cell_type": "code",
   "execution_count": 15,
   "metadata": {},
   "outputs": [],
   "source": [
    "data = data.dropna(axis=0, how='any')"
   ]
  },
  {
   "cell_type": "code",
   "execution_count": 16,
   "metadata": {},
   "outputs": [
    {
     "data": {
      "text/plain": [
       "(577224, 2)"
      ]
     },
     "execution_count": 16,
     "metadata": {},
     "output_type": "execute_result"
    }
   ],
   "source": [
    "data.shape"
   ]
  },
  {
   "cell_type": "markdown",
   "metadata": {},
   "source": [
    "# 2.process"
   ]
  },
  {
   "cell_type": "code",
   "execution_count": 17,
   "metadata": {},
   "outputs": [],
   "source": [
    "import jieba"
   ]
  },
  {
   "cell_type": "code",
   "execution_count": 18,
   "metadata": {},
   "outputs": [],
   "source": [
    "stopwords = []\n",
    "with open('./data/stopwords.txt', \"r\", encoding='utf-8') as f:\n",
    "    line = f.readline()\n",
    "    while line:\n",
    "        stopwords.append(line[:-1])\n",
    "        line = f.readline()\n",
    "stopwords = set(stopwords)"
   ]
  },
  {
   "cell_type": "code",
   "execution_count": 19,
   "metadata": {},
   "outputs": [],
   "source": [
    "def splitWord(text):\n",
    "    seg_list = list(jieba.cut(text))\n",
    "    words = [w for w in seg_list if w not in stopwords]\n",
    "    words = \" \".join(words)\n",
    "    return words"
   ]
  },
  {
   "cell_type": "code",
   "execution_count": 35,
   "metadata": {},
   "outputs": [],
   "source": [
    "data['words'] = data['context'].apply(splitWord)"
   ]
  },
  {
   "cell_type": "code",
   "execution_count": 36,
   "metadata": {},
   "outputs": [
    {
     "data": {
      "text/html": [
       "<div>\n",
       "<style scoped>\n",
       "    .dataframe tbody tr th:only-of-type {\n",
       "        vertical-align: middle;\n",
       "    }\n",
       "\n",
       "    .dataframe tbody tr th {\n",
       "        vertical-align: top;\n",
       "    }\n",
       "\n",
       "    .dataframe thead th {\n",
       "        text-align: right;\n",
       "    }\n",
       "</style>\n",
       "<table border=\"1\" class=\"dataframe\">\n",
       "  <thead>\n",
       "    <tr style=\"text-align: right;\">\n",
       "      <th></th>\n",
       "      <th>context</th>\n",
       "      <th>tag</th>\n",
       "      <th>words</th>\n",
       "    </tr>\n",
       "  </thead>\n",
       "  <tbody>\n",
       "    <tr>\n",
       "      <th>0</th>\n",
       "      <td>【e公司直播】格力电器董事会换届 董明珠是否连任董事？ e公司讯，1月16日下午2：30，格...</td>\n",
       "      <td>0</td>\n",
       "      <td>e 公司 直播 格力电器 董事会 换届 董明珠 连任 董事 e 公司 讯 格力电器 迎来 2...</td>\n",
       "    </tr>\n",
       "    <tr>\n",
       "      <th>1</th>\n",
       "      <td>美拍视频: 吃饭饭美拍视频</td>\n",
       "      <td>0</td>\n",
       "      <td>美拍 视频 吃饭 饭美 拍 视频</td>\n",
       "    </tr>\n",
       "    <tr>\n",
       "      <th>2</th>\n",
       "      <td>原标题:7月1日起，你的养老金将有重大调整！新疆人注意，关乎你的钱袋子！点击阿克苏我的家关注...</td>\n",
       "      <td>1</td>\n",
       "      <td>原 标题 日起 养老金 调整 新疆 关乎 钱袋子 点击 阿克苏 家 关注 刚刚 国务院 印发...</td>\n",
       "    </tr>\n",
       "    <tr>\n",
       "      <th>3</th>\n",
       "      <td>虽说今年新iPhone的表现不是那么惊世骇俗，但亮点也是有的，譬如加入了“双卡双待”豪华套餐...</td>\n",
       "      <td>1</td>\n",
       "      <td>新 iPhone 表现 惊世骇俗 亮点 双卡 双待 豪华 套餐 行列 算是 中国国情 考量 ...</td>\n",
       "    </tr>\n",
       "    <tr>\n",
       "      <th>4</th>\n",
       "      <td>原标题:Happy Jazz Year | 在爵士跨年夜中，迎来2019！         ...</td>\n",
       "      <td>1</td>\n",
       "      <td>原 标题 Happy Jazz Year 爵士 跨年 夜中 迎来 2019</td>\n",
       "    </tr>\n",
       "  </tbody>\n",
       "</table>\n",
       "</div>"
      ],
      "text/plain": [
       "                                             context  tag  \\\n",
       "0  【e公司直播】格力电器董事会换届 董明珠是否连任董事？ e公司讯，1月16日下午2：30，格...    0   \n",
       "1                                      美拍视频: 吃饭饭美拍视频    0   \n",
       "2  原标题:7月1日起，你的养老金将有重大调整！新疆人注意，关乎你的钱袋子！点击阿克苏我的家关注...    1   \n",
       "3  虽说今年新iPhone的表现不是那么惊世骇俗，但亮点也是有的，譬如加入了“双卡双待”豪华套餐...    1   \n",
       "4  原标题:Happy Jazz Year | 在爵士跨年夜中，迎来2019！         ...    1   \n",
       "\n",
       "                                               words  \n",
       "0  e 公司 直播 格力电器 董事会 换届 董明珠 连任 董事 e 公司 讯 格力电器 迎来 2...  \n",
       "1                                   美拍 视频 吃饭 饭美 拍 视频  \n",
       "2  原 标题 日起 养老金 调整 新疆 关乎 钱袋子 点击 阿克苏 家 关注 刚刚 国务院 印发...  \n",
       "3  新 iPhone 表现 惊世骇俗 亮点 双卡 双待 豪华 套餐 行列 算是 中国国情 考量 ...  \n",
       "4              原 标题 Happy Jazz Year 爵士 跨年 夜中 迎来 2019  "
      ]
     },
     "execution_count": 36,
     "metadata": {},
     "output_type": "execute_result"
    }
   ],
   "source": [
    "data.head()"
   ]
  },
  {
   "cell_type": "code",
   "execution_count": 42,
   "metadata": {},
   "outputs": [],
   "source": [
    "data.to_csv(\"./data/data.csv\", index=False, encoding='utf-8')"
   ]
  },
  {
   "cell_type": "code",
   "execution_count": null,
   "metadata": {},
   "outputs": [],
   "source": []
  }
 ],
 "metadata": {
  "kernelspec": {
   "display_name": "Python 3",
   "language": "python",
   "name": "python3"
  },
  "language_info": {
   "codemirror_mode": {
    "name": "ipython",
    "version": 3
   },
   "file_extension": ".py",
   "mimetype": "text/x-python",
   "name": "python",
   "nbconvert_exporter": "python",
   "pygments_lexer": "ipython3",
   "version": "3.7.1"
  }
 },
 "nbformat": 4,
 "nbformat_minor": 2
}
