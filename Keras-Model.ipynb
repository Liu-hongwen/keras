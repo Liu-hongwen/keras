{
 "cells": [
  {
   "cell_type": "code",
   "execution_count": 1,
   "metadata": {},
   "outputs": [
    {
     "name": "stderr",
     "output_type": "stream",
     "text": [
      "Using TensorFlow backend.\n"
     ]
    }
   ],
   "source": [
    "import pandas as pd\n",
    "\n",
    "from sklearn.model_selection import train_test_split\n",
    "\n",
    "from keras.preprocessing.text import Tokenizer\n",
    "from keras.preprocessing.sequence import pad_sequences\n",
    "\n",
    "from keras.models import Sequential, Model\n",
    "from keras.layers import Input, Embedding, LSTM, Dense"
   ]
  },
  {
   "cell_type": "code",
   "execution_count": 2,
   "metadata": {},
   "outputs": [],
   "source": [
    "train = pd.read_csv(\"data_small.csv\")"
   ]
  },
  {
   "cell_type": "code",
   "execution_count": 3,
   "metadata": {},
   "outputs": [],
   "source": [
    "tokenizer = Tokenizer(num_words=90000)\n",
    "tokenizer.fit_on_texts(train['words'])\n",
    "X = tokenizer.texts_to_sequences(train['words'])\n",
    "X = pad_sequences(X, maxlen=1000, padding='post', truncating='post')"
   ]
  },
  {
   "cell_type": "code",
   "execution_count": 4,
   "metadata": {},
   "outputs": [],
   "source": [
    "Y = pd.get_dummies(pd.DataFrame({'tag': [str(target) for target in train['tag']]})).values"
   ]
  },
  {
   "cell_type": "code",
   "execution_count": 5,
   "metadata": {},
   "outputs": [],
   "source": [
    "X_train, X_val, y_train, y_val = train_test_split(X, Y, test_size=0.1, random_state=30)"
   ]
  },
  {
   "cell_type": "code",
   "execution_count": 6,
   "metadata": {},
   "outputs": [
    {
     "name": "stdout",
     "output_type": "stream",
     "text": [
      "X_train.shape: (408, 1000)\n",
      "y_train.shape: (408, 2)\n",
      "X_val.shape: (46, 1000)\n",
      "y_val.shape: (46, 2)\n"
     ]
    }
   ],
   "source": [
    "print(\"X_train.shape:\", end=' ')\n",
    "print(X_train.shape)\n",
    "print(\"y_train.shape:\", end=' ')\n",
    "print(y_train.shape)\n",
    "print(\"X_val.shape:\", end=' ')\n",
    "print(X_val.shape)\n",
    "print(\"y_val.shape:\", end=' ')\n",
    "print(y_val.shape)"
   ]
  },
  {
   "cell_type": "code",
   "execution_count": 7,
   "metadata": {},
   "outputs": [
    {
     "name": "stdout",
     "output_type": "stream",
     "text": [
      "_________________________________________________________________\n",
      "Layer (type)                 Output Shape              Param #   \n",
      "=================================================================\n",
      "embedding (Embedding)        (None, 1000, 300)         30000000  \n",
      "_________________________________________________________________\n",
      "LSTM (LSTM)                  (None, 100)               160400    \n",
      "_________________________________________________________________\n",
      "Dense (Dense)                (None, 2)                 202       \n",
      "=================================================================\n",
      "Total params: 30,160,602\n",
      "Trainable params: 30,160,602\n",
      "Non-trainable params: 0\n",
      "_________________________________________________________________\n",
      "Epoch 1/5\n",
      "408/408 [==============================] - 22s 55ms/step - loss: 0.5062 - acc: 0.7892\n",
      "Epoch 2/5\n",
      "408/408 [==============================] - 21s 52ms/step - loss: 0.4730 - acc: 0.8309\n",
      "Epoch 3/5\n",
      "408/408 [==============================] - 21s 52ms/step - loss: 0.4764 - acc: 0.8382\n",
      "Epoch 4/5\n",
      "408/408 [==============================] - 21s 52ms/step - loss: 0.4692 - acc: 0.8382\n",
      "Epoch 5/5\n",
      "408/408 [==============================] - 21s 52ms/step - loss: 0.4646 - acc: 0.8382\n"
     ]
    },
    {
     "data": {
      "text/plain": [
       "<keras.callbacks.History at 0x7f84403edfd0>"
      ]
     },
     "execution_count": 7,
     "metadata": {},
     "output_type": "execute_result"
    }
   ],
   "source": [
    "# Keras 序贯（Sequential）模型\n",
    "model = Sequential()\n",
    "\n",
    "model.add(Embedding(100000, 300, input_length=1000, name='embedding'))\n",
    "model.add(LSTM(100, dropout=0.2, recurrent_dropout=0.2, name='LSTM'))\n",
    "model.add(Dense(2, activation='softmax', name='Dense'))\n",
    "\n",
    "model.compile(optimizer='rmsprop', loss='binary_crossentropy', metrics=['accuracy'])\n",
    "model.summary()\n",
    "\n",
    "model.fit(X_train, y_train, batch_size=32, epochs=5)"
   ]
  },
  {
   "cell_type": "code",
   "execution_count": 8,
   "metadata": {},
   "outputs": [
    {
     "name": "stdout",
     "output_type": "stream",
     "text": [
      "_________________________________________________________________\n",
      "Layer (type)                 Output Shape              Param #   \n",
      "=================================================================\n",
      "imput (InputLayer)           (None, 1000)              0         \n",
      "_________________________________________________________________\n",
      "embedding (Embedding)        (None, 1000, 300)         30000000  \n",
      "_________________________________________________________________\n",
      "LSTM (LSTM)                  (None, 100)               160400    \n",
      "_________________________________________________________________\n",
      "Dense1 (Dense)               (None, 64)                6464      \n",
      "_________________________________________________________________\n",
      "Dense2 (Dense)               (None, 64)                4160      \n",
      "_________________________________________________________________\n",
      "Dense3 (Dense)               (None, 2)                 130       \n",
      "=================================================================\n",
      "Total params: 30,171,154\n",
      "Trainable params: 30,171,154\n",
      "Non-trainable params: 0\n",
      "_________________________________________________________________\n",
      "Epoch 1/5\n",
      "408/408 [==============================] - 23s 56ms/step - loss: 0.5361 - acc: 0.7819\n",
      "Epoch 2/5\n",
      "408/408 [==============================] - 21s 52ms/step - loss: 0.4700 - acc: 0.8088\n",
      "Epoch 3/5\n",
      "408/408 [==============================] - 21s 52ms/step - loss: 0.4793 - acc: 0.8382\n",
      "Epoch 4/5\n",
      "408/408 [==============================] - 21s 53ms/step - loss: 0.4634 - acc: 0.8382\n",
      "Epoch 5/5\n",
      "408/408 [==============================] - 21s 52ms/step - loss: 0.4530 - acc: 0.8382\n"
     ]
    },
    {
     "data": {
      "text/plain": [
       "<keras.callbacks.History at 0x7f83e4713860>"
      ]
     },
     "execution_count": 8,
     "metadata": {},
     "output_type": "execute_result"
    }
   ],
   "source": [
    "# Keras 函数式（Functional）模型\n",
    "inputs = Input(shape=(1000, ), name='imput')\n",
    "x = Embedding(100000, 300, input_length=1000, trainable=True, name='embedding')(inputs)\n",
    "x = LSTM(100, dropout=0.2, recurrent_dropout=0.2, name='LSTM')(x)\n",
    "x = Dense(64, activation='relu', name='Dense1')(x)\n",
    "x = Dense(64, activation='relu', name='Dense2')(x)\n",
    "predictions = Dense(2, activation='softmax', name='Dense3')(x)\n",
    "\n",
    "model = Model(inputs=inputs, outputs=predictions)\n",
    "\n",
    "model.compile(optimizer='rmsprop', loss='categorical_crossentropy', metrics=['accuracy'])\n",
    "model.summary()\n",
    "\n",
    "model.fit(X_train, y_train, batch_size=32, epochs=5)"
   ]
  },
  {
   "cell_type": "code",
   "execution_count": null,
   "metadata": {},
   "outputs": [],
   "source": []
  }
 ],
 "metadata": {
  "kernelspec": {
   "display_name": "Python 3",
   "language": "python",
   "name": "python3"
  },
  "language_info": {
   "codemirror_mode": {
    "name": "ipython",
    "version": 3
   },
   "file_extension": ".py",
   "mimetype": "text/x-python",
   "name": "python",
   "nbconvert_exporter": "python",
   "pygments_lexer": "ipython3",
   "version": "3.5.2"
  }
 },
 "nbformat": 4,
 "nbformat_minor": 2
}
